{
 "cells": [
  {
   "cell_type": "markdown",
   "metadata": {},
   "source": [
    "\n",
    "\n",
    "\n",
    "\n",
    "\n",
    "\n",
    "\n",
    "\n",
    "\n",
    "\n",
    "\n",
    "\n",
    "# ORB Detector Parameter Tuning \n",
    "## Setup the required functions and input images"
   ]
  },
  {
   "cell_type": "code",
   "execution_count": null,
   "metadata": {
    "scrolled": false
   },
   "outputs": [],
   "source": [
    "import numpy as np\n",
    "import cv2\n",
    "import sys, os\n",
    "from matplotlib import pyplot as plt\n",
    "sys.path.insert(0, os.path.join(globals()['_dh'][0], os.pardir,'helper_functions'))\n",
    "from vslam_helper import *\n",
    "\n",
    "%matplotlib inline\n",
    "\n",
    "K = np.array([[699.33112889, 0.0, 403.23876197],\n",
    "              [0.0, 693.66457792, 293.40739086],\n",
    "              [0.0, 0.0, 1.0]])\n",
    "\n",
    "D =  np.array([-2.78089511e-01,  1.30037134e-01, -1.17555797e-04, -1.55337290e-04, -4.34486330e-02])\n",
    "\n",
    "data_path = os.path.join(os.pardir,'data')\n",
    "\n",
    "img1 = cv2.imread(os.path.join(data_path, 'cervino_800x600/G0057821.jpg'),cv2.IMREAD_COLOR)\n",
    "img2 = cv2.imread(os.path.join(data_path, 'cervino_800x600/G0057826.jpg'),cv2.IMREAD_COLOR)\n",
    "\n",
    "gr1 = cv2.cvtColor(img1, cv2.COLOR_BGR2GRAY)\n",
    "gr2 = cv2.cvtColor(img2, cv2.COLOR_BGR2GRAY)\n",
    "\n",
    "clahe = cv2.createCLAHE(clipLimit=40.0, tileGridSize=(4,3))\n",
    "gr1 = clahe.apply(gr1)\n",
    "gr2 = clahe.apply(gr2)\n",
    "\n",
    "# Read image masks to mask iceberg sections\n",
    "m1 = cv2.imread(os.path.join(data_path, 'cervino_800x600/G0057821_mask.png'),cv2.IMREAD_GRAYSCALE)\n",
    "m2 = cv2.imread(os.path.join(data_path, 'cervino_800x600/G0057826_mask.png'),cv2.IMREAD_GRAYSCALE)"
   ]
  },
  {
   "cell_type": "markdown",
   "metadata": {},
   "source": [
    "## Feature Detection"
   ]
  },
  {
   "cell_type": "code",
   "execution_count": null,
   "metadata": {},
   "outputs": [],
   "source": [
    "TILE_KP = True\n",
    "RADIAL_NON_MAX = True\n",
    "RADIAL_NON_MAX_RADIUS = 5\n",
    "TILEY = 4\n",
    "TILEX = 3\n",
    "\n",
    "detector = cv2.ORB_create(nfeatures=10000, scaleFactor=2.0, nlevels=4, edgeThreshold=31, \n",
    "                           firstLevel=0, WTA_K=2, scoreType=cv2.ORB_HARRIS_SCORE,  \n",
    "                           patchSize=31, fastThreshold=15)\n",
    "'''\n",
    "detector = cv2.xfeatures2d.SIFT_create(nfeatures = 10000, nOctaveLayers = 3, contrastThreshold = 0.01, \n",
    "                                       edgeThreshold = 20, sigma = 1.6)\n",
    "'''\n",
    "# find the keypoints and descriptors with ORB\n",
    "kp1 = detector.detect(gr1,m1)\n",
    "print(\"Detected kps: \",len(kp1))\n",
    "kp2 = detector.detect(gr2,m2)\n",
    "\n",
    "if TILE_KP:\n",
    "    kp1 = tiled_features(kp1, gr1.shape, TILEY, TILEX)\n",
    "    kp2 = tiled_features(kp2, gr2.shape, TILEY, TILEX)\n",
    "    print (\"Points after tiling supression: \",len(kp1))\n",
    "\n",
    "if RADIAL_NON_MAX:\n",
    "    kp1 = radial_non_max_kd(kp1,RADIAL_NON_MAX_RADIUS)\n",
    "    kp2 = radial_non_max_kd(kp2,RADIAL_NON_MAX_RADIUS)\n",
    "    print (\"Points after radial supression: \",len(kp1))\n",
    "\n",
    "img_out1 = draw_keypoints(cv2.cvtColor(gr1, cv2.COLOR_GRAY2BGR),kp1, color = (255, 255, 0))\n",
    "img_out2 = draw_keypoints(cv2.cvtColor(gr2, cv2.COLOR_GRAY2BGR),kp2, color = (255, 255, 0))\n",
    "\n",
    "\n",
    "fig, [ax1, ax2] = plt.subplots(1,2,dpi=200)\n",
    "fig.suptitle('800x600 Yellow circle defult setting patchSize=31')\n",
    "ax1.axis(\"off\")\n",
    "ax1.imshow(img_out1)\n",
    "ax2.axis(\"off\")\n",
    "ax2.imshow(img_out2)\n",
    "fig.subplots_adjust(0,0,1,1,0.0,0.0)\n",
    "plt.show()"
   ]
  },
  {
   "cell_type": "markdown",
   "metadata": {},
   "source": [
    "## Feature matching"
   ]
  },
  {
   "cell_type": "code",
   "execution_count": null,
   "metadata": {},
   "outputs": [],
   "source": [
    "kp1, des1 = detector.compute(gr1,kp1)\n",
    "kp2, des2 = detector.compute(gr2,kp2)\n",
    "'''\n",
    "FLANN_INDEX_LSH = 6\n",
    "FLANN_INDEX_KDTREE = 1\n",
    "matcher = cv2.FlannBasedMatcher(dict(algorithm = FLANN_INDEX_LSH, table_number = 6, key_size = 20,\n",
    "                                   multi_probe_level = 2), dict(checks=100))\n",
    "'''\n",
    "matcher = cv2.BFMatcher(cv2.NORM_HAMMING2, crossCheck=True)\n",
    "#matches12_knn = matcher.knnMatch(des1,des2,k=2)\n",
    "matches12 = matcher.match(des1,des2)\n",
    "#matches12 = [item for sublist in matches12_knn for item in sublist]\n",
    "print(\"Found matches: \",len(matches12))\n",
    "\n",
    "kp1_match_12 = np.array([kp1[mat.queryIdx].pt for mat in matches12])\n",
    "kp2_match_12 = np.array([kp2[mat.trainIdx].pt for mat in matches12])\n",
    "\n",
    "#matches12 = sorted(matches12, key = lambda x:x.distance)\n",
    "#matches12 = matches12[:(int)(len(matches12)*.75)]\n",
    "\n",
    "kp1_match_12_ud = cv2.undistortPoints(np.expand_dims(kp1_match_12,axis=1),K,D)\n",
    "kp2_match_12_ud = cv2.undistortPoints(np.expand_dims(kp2_match_12,axis=1),K,D)\n",
    "\n",
    "E_12, mask_e_12 = cv2.findEssentialMat(kp1_match_12_ud, kp2_match_12_ud, focal=1.0, pp=(0., 0.), \n",
    "                                       method=cv2.RANSAC, prob=0.9999, threshold=0.001)\n",
    "\n",
    "print(\"After essential: \", np.sum(mask_e_12))\n",
    "\n",
    "img_valid = draw_feature_tracks(gr1,kp1,gr2,kp2, matches12, mask_e_12, display_invalid=True, color=(0, 255, 0))\n",
    "#img_valid = displayMatches(gr1,kp1,gr2,kp2, matches12, mask_e_12, display_invalid=False, color=(0, 255, 0))\n",
    "\n",
    "fig, ax= plt.subplots(dpi=200)\n",
    "plt.title('ORB detector with BF Matcher and Cheirality filter')\n",
    "plt.axis(\"off\")\n",
    "plt.imshow(img_valid)\n",
    "plt.show()\n"
   ]
  }
 ],
 "metadata": {
  "kernelspec": {
   "display_name": "simple_vslam_env",
   "language": "python",
   "name": "simple_vslam_env"
  },
  "language_info": {
   "codemirror_mode": {
    "name": "ipython",
    "version": 3
   },
   "file_extension": ".py",
   "mimetype": "text/x-python",
   "name": "python",
   "nbconvert_exporter": "python",
   "pygments_lexer": "ipython3",
   "version": "3.5.6"
  }
 },
 "nbformat": 4,
 "nbformat_minor": 2
}
