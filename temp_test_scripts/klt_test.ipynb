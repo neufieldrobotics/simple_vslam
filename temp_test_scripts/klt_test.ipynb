{
 "cells": [
  {
   "cell_type": "markdown",
   "metadata": {},
   "source": [
    " # ORB Detector Parameter Tuning \n",
    "## Setup the required functions and input images"
   ]
  },
  {
   "cell_type": "code",
   "execution_count": null,
   "metadata": {
    "scrolled": true
   },
   "outputs": [],
   "source": [
    "#!/usr/bin/env python3\n",
    "# -*- coding: utf-8 -*-\n",
    "\"\"\"\n",
    "Created on Fri Feb  1 20:06:06 2019\n",
    "\n",
    "@author: vik748\n",
    "\"\"\"\n",
    "import numpy as np\n",
    "import cv2\n",
    "import sys\n",
    "from matplotlib import pyplot as plt\n",
    "from ssc import *\n",
    "%matplotlib inline\n",
    "import time\n",
    "\n",
    "\n",
    "def draw_keypoints(vis_orig, keypoints, color = (0, 255, 255), thick = 3):\n",
    "    vis = vis_orig.copy()\n",
    "    for kp in keypoints:\n",
    "        x, y = kp.pt\n",
    "        cv2.circle(vis, (int(x), int(y)), int(vis.shape[1]/200), color, thickness=thick)\n",
    "    return vis\n",
    "\n",
    "def draw_markers(vis_orig, keypoints, color = (0, 0, 255)):\n",
    "    vis = vis_orig.copy()\n",
    "    for kp in keypoints:\n",
    "        x, y = kp.pt\n",
    "        cv2.drawMarker(vis, (int(x), int(y)), color,  markerSize=30, markerType = cv2.MARKER_CROSS, thickness=3)\n",
    "    return vis\n",
    "\n",
    "def draw_marker_pts(vis_orig, pts, color = (0, 0, 255)):\n",
    "    vis = vis_orig.copy()\n",
    "    for row in pts[:,0,:]:\n",
    "        cv2.drawMarker(vis, (int(row[0]), int(row[1])), color,  markerSize=30, markerType = cv2.MARKER_CROSS, thickness=3)\n",
    "    return vis\n",
    "\n",
    "if sys.platform == 'darwin':\n",
    "    path = '/Users/vik748/Google Drive/'\n",
    "else:\n",
    "    path = '/home/vik748/'\n",
    "img = cv2.imread(path+'data/Lars2_081018/G0028388.JPG',1) # iscolor = CV_LOAD_IMAGE_GRAYSCALE\n",
    "img2 = cv2.imread(path+'data/Lars2_081018/G0028393.JPG',1) # iscolor = CV_LOAD_IMAGE_GRAYSCALE\n",
    "\n",
    "\n",
    "\n",
    "mask1 = cv2.imread(path+'data/Lars2_081018_clahe_masks2_out/G0028388_mask.png',cv2.IMREAD_GRAYSCALE)\n",
    "mask2 = cv2.imread(path+'data/Lars2_081018_clahe_masks2_out/G0028393_mask.png',cv2.IMREAD_GRAYSCALE)\n",
    "#img = cv2.imread(path+'kitti/00/image_0/000000.png',1) # iscolor = CV_LOAD_IMAGE_GRAYSCALE\n",
    "#img2 = cv2.imread(path+'kitti/00/image_0/000001.png',1) # iscolor = CV_LOAD_IMAGE_GRAYSCALE\n",
    "\n",
    "#img = np.delete(img,-1,1)\n",
    "#img2 = np.delete(img2,-1,1)\n",
    "\n",
    "mask_pts_1498 = np.array([[1030, 740], [1820, 840], [1785, 1085], [1675, 1400], [975, 1285]])\n",
    "gray = cv2.cvtColor(img, cv2.COLOR_BGR2GRAY)\n",
    "gray2 = cv2.cvtColor(img2, cv2.COLOR_BGR2GRAY)\n",
    "\n",
    "clahe = cv2.createCLAHE(clipLimit=40.0, tileGridSize=(8,6))\n",
    "gray = clahe.apply(gray)\n",
    "gray2 = clahe.apply(gray2)\n",
    "\n",
    "\n",
    "\n",
    "# create a mask image filled with 1s, the size of original image\n",
    "mask = np.ones(img.shape[:2], dtype=np.uint8)\n",
    "mask = cv2.fillConvexPoly(mask, mask_pts_1498, color=[0, 0, 0])\n"
   ]
  },
  {
   "cell_type": "markdown",
   "metadata": {},
   "source": [
    "## Default Settings on High Res Image"
   ]
  },
  {
   "cell_type": "code",
   "execution_count": null,
   "metadata": {
    "scrolled": false
   },
   "outputs": [],
   "source": [
    "detector1 = cv2.ORB_create(nfeatures=1000, scaleFactor=4.0, nlevels=4, edgeThreshold=125, \n",
    "                           firstLevel=0, WTA_K=4, scoreType=cv2.ORB_HARRIS_SCORE,  \n",
    "                           patchSize=125, fastThreshold=5)\n",
    "\n",
    "# find the keypoints and descriptors with ORB\n",
    "kp1 = detector1.detect(gray,mask1)\n",
    "kp2 = detector1.detect(gray2,mask2)\n",
    "\n",
    "kp1_pts = np.array([o.pt for o in kp1],dtype='float32')\n",
    "kp1_pts = np.expand_dims(kp1_pts,1)\n",
    "\n",
    "\n",
    "img_out = draw_keypoints(img,kp1, thick=3)\n",
    "img_out2 = draw_keypoints(img2,kp2, thick=3)\n",
    "\n",
    "fig, (ax1,ax2) = plt.subplots(2,1, dpi=200)\n",
    "fig.suptitle('4000x3000 Image default orb settings')\n",
    "ax1.axis(\"off\")\n",
    "ax2.axis(\"off\")\n",
    "#ax1.imshow(cv2.cvtColor(img_out, cv2.COLOR_BGR2RGB))\n",
    "#ax2.imshow(cv2.cvtColor(img_out2, cv2.COLOR_BGR2RGB))\n",
    "ax1.imshow(cv2.cvtColor(gray, cv2.COLOR_GRAY2BGR))\n",
    "ax2.imshow(cv2.cvtColor(gray2, cv2.COLOR_GRAY2BGR))\n",
    "\n",
    "plt.show()"
   ]
  },
  {
   "cell_type": "code",
   "execution_count": null,
   "metadata": {
    "scrolled": false
   },
   "outputs": [],
   "source": [
    "print(kp1_pts.shape)\n",
    "\n",
    "# Parameters for lucas kanade optical flow\n",
    "lk_params = dict( winSize  = (65,65),\n",
    "                  maxLevel = 2,\n",
    "                  criteria = (cv2.TERM_CRITERIA_EPS | cv2.TERM_CRITERIA_COUNT, 10, 0.03))\n",
    "color = np.random.randint(0,255,(10000,3))\n",
    "# Create a mask image for drawing purposes\n",
    "mask = np.zeros_like(img)\n",
    "\n",
    "start=time.time()\n",
    "p1, st, err = cv2.calcOpticalFlowPyrLK(gray, gray2, kp1_pts, None, **lk_params)\n",
    "print(\"elapsed: \",time.time()-start)\n",
    "# Select good points\n",
    "good_new = p1[st==1]\n",
    "good_old = kp1_pts[st==1]\n",
    "# draw the tracks\n",
    "for i,(new,old) in enumerate(zip(good_new,good_old)):\n",
    "    a,b = new.ravel()\n",
    "    c,d = old.ravel()\n",
    "    mask = cv2.line(mask, (a,b),(c,d), color[i].tolist(), 2)\n",
    "    img = cv2.circle(img,(a,b),5,color[i].tolist(),-1)\n",
    "img_out = cv2.add(img,mask)\n",
    "fig, (ax1) = plt.subplots(1,1, dpi=200)\n",
    "ax1.imshow(img_out)"
   ]
  },
  {
   "cell_type": "code",
   "execution_count": null,
   "metadata": {
    "scrolled": true
   },
   "outputs": [],
   "source": [
    "kp1_pts.shape"
   ]
  },
  {
   "cell_type": "code",
   "execution_count": null,
   "metadata": {
    "scrolled": false
   },
   "outputs": [],
   "source": [
    "import numpy as np\n",
    "import cv2\n",
    "\n",
    "# params for ShiTomasi corner detection\n",
    "feature_params = dict( maxCorners = 200,\n",
    "                       qualityLevel = 0.3,\n",
    "                       minDistance = 7,\n",
    "                       blockSize = 7 )\n",
    "# Parameters for lucas kanade optical flow\n",
    "lk_params = dict( winSize  = (30,30),\n",
    "                  maxLevel = 2,\n",
    "                  criteria = (cv2.TERM_CRITERIA_EPS | cv2.TERM_CRITERIA_COUNT, 100, 0.03))\n",
    "# Create some random colors\n",
    "color = np.random.randint(0,255,(250,3))\n",
    "# Take first frame and find corners in it\n",
    "#ret, old_frame = cap.read()\n",
    "old_frame = np.copy(img)\n",
    "old_gray = cv2.cvtColor(old_frame, cv2.COLOR_BGR2GRAY)\n",
    "p0 = cv2.goodFeaturesToTrack(old_gray, mask = None, **feature_params)\n",
    "# Create a mask image for drawing purposes\n",
    "mask = np.zeros_like(old_frame)\n",
    "if 1:\n",
    "    #ret,frame = cap.read()\n",
    "    frame = np.copy(img2)\n",
    "    frame_gray = cv2.cvtColor(frame, cv2.COLOR_BGR2GRAY)\n",
    "    # calculate optical flow\n",
    "    p1, st, err = cv2.calcOpticalFlowPyrLK(old_gray, frame_gray, p0, None, **lk_params)\n",
    "    # Select good points\n",
    "    good_new = p1[st==1]\n",
    "    good_old = p0[st==1]\n",
    "    # draw the tracks\n",
    "    for i,(new,old) in enumerate(zip(good_new,good_old)):\n",
    "        a,b = new.ravel()\n",
    "        c,d = old.ravel()\n",
    "        mask = cv2.line(mask, (a,b),(c,d), color[i].tolist(), 2)\n",
    "        frame = cv2.circle(frame,(a,b),5,color[i].tolist(),-1)\n",
    "    img_out = cv2.add(frame,mask)\n",
    "    fig, ax= plt.subplots(dpi=200)\n",
    "    plt.imshow(img_out)\n",
    "    #k = cv2.waitKey(30) & 0xff\n",
    "    #if k == 27:\n",
    "    #    break\n",
    "    # Now update the previous frame and previous points\n",
    "    old_gray = frame_gray.copy()\n",
    "    p0 = good_new.reshape(-1,1,2)\n",
    "cv2.destroyAllWindows()\n"
   ]
  },
  {
   "cell_type": "code",
   "execution_count": null,
   "metadata": {
    "scrolled": true
   },
   "outputs": [],
   "source": [
    "p0.dtype\n"
   ]
  },
  {
   "cell_type": "code",
   "execution_count": null,
   "metadata": {
    "scrolled": true
   },
   "outputs": [],
   "source": [
    "np.sum(st)"
   ]
  },
  {
   "cell_type": "code",
   "execution_count": null,
   "metadata": {
    "scrolled": true
   },
   "outputs": [],
   "source": []
  },
  {
   "cell_type": "code",
   "execution_count": null,
   "metadata": {
    "scrolled": true
   },
   "outputs": [],
   "source": []
  }
 ],
 "metadata": {
  "kernelspec": {
   "display_name": "slam_kernel",
   "language": "python",
   "name": "myenv"
  },
  "language_info": {
   "codemirror_mode": {
    "name": "ipython",
    "version": 3
   },
   "file_extension": ".py",
   "mimetype": "text/x-python",
   "name": "python",
   "nbconvert_exporter": "python",
   "pygments_lexer": "ipython3",
   "version": "3.7.2"
  }
 },
 "nbformat": 4,
 "nbformat_minor": 2
}
